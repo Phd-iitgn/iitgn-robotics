{
  "nbformat": 4,
  "nbformat_minor": 0,
  "metadata": {
    "colab": {
      "name": "Copy of Harsh shrivastava- 21310011- Assign 5- Q2- Stanford Manipulator",
      "provenance": [],
      "collapsed_sections": []
    },
    "kernelspec": {
      "name": "python3",
      "display_name": "Python 3"
    },
    "language_info": {
      "name": "python"
    }
  },
  "cells": [
    {
      "cell_type": "code",
      "metadata": {
        "id": "nKTYGZQazUSx"
      },
      "source": [
        "import numpy as np"
      ],
      "execution_count": null,
      "outputs": []
    },
    {
      "cell_type": "code",
      "metadata": {
        "id": "clh0HXXOnpaM"
      },
      "source": [
        "\n",
        "# standford\n",
        "def stanford_inverse_kinematics(endeffector_position,lengthsoflinks):\n",
        "    theta1 = np.arctan(endeffector_position[1]/endeffector_position[0])\n",
        "    r = np.sqrt(endeffector_position[0]**2 + endeffector_position[1]**2)\n",
        "    s = endeffector_position[2] - lengthsoflinks[0]\n",
        "    theta2 = np.arctan(s/r)\n",
        "    d3 = np.sqrt(r**2 + s**2) - lengthsoflinks[1]\n",
        "    print(\"First Solution: \\n\", \"Theta1 = \", theta1, \"\\n Theta2 =\", theta2,\"\\n Extension: \", d3, \"\\n\")\n",
        "    print(\"Second Solution: \\n\", \"Theta1 = \", np.pi + theta1, \"\\n Theta2 =\", np.pi - theta2,\"\\n Extension:\", d3)\n",
        "    return theta1, theta2,d3"
      ],
      "execution_count": null,
      "outputs": []
    },
    {
      "cell_type": "code",
      "metadata": {
        "id": "RfU7dU7WGcWB",
        "colab": {
          "base_uri": "https://localhost:8080/"
        },
        "outputId": "0672181d-6cb1-4540-dc7d-a6b53bc8291e"
      },
      "source": [
        "# user input for start position \n",
        "start_x = float(input(\"enter the starting position-x\"))\n",
        "start_y = float(input(\"enter the startiing position-y\"))\n",
        "start_z = float(input(\"enter the startiing position-z\"))\n",
        "start_pos = [start_x, start_y, start_z]\n",
        "\n",
        "end_x = float(input(\"enter the ending position-x\"))\n",
        "end_y = float(input(\"enter the ending position-y\"))\n",
        "end_z = float(input(\"enter the ending position-z\"))\n",
        "end_pos = [end_x, end_y, end_z]\n",
        "\n",
        "l1 = 0.25\n",
        "l2 = 0.65\n",
        "lengthsoflinks = [l1,l2]\n",
        "theta1, theta2, d3 = stanford_inverse_kinematics(start_pos, lengthsoflinks)\n",
        "print('Solution:', theta1, theta2, d3)"
      ],
      "execution_count": null,
      "outputs": [
        {
          "output_type": "stream",
          "name": "stdout",
          "text": [
            "enter the starting position-x2\n",
            "enter the startiing position-y3\n",
            "enter the startiing position-z10\n",
            "First Solution: \n",
            " Theta1 =  0.982793723247329 \n",
            " Theta2 = 1.2165922210084263 \n",
            " Extension:  9.745311443145894 \n",
            "\n",
            "Second Solution: \n",
            " Theta1 =  4.124386376837122 \n",
            " Theta2 = 1.9250004325813668 \n",
            " Extension: 9.745311443145894\n",
            "Solution: 0.982793723247329 1.2165922210084263 9.745311443145894\n"
          ]
        }
      ]
    },
    {
      "cell_type": "code",
      "metadata": {
        "id": "3lsbIAGjxG_d"
      },
      "source": [
        "#dynamic equations for sanford Robot\n",
        "a1 = a2 = d1 = 1\n",
        "d2 = 0\n",
        "d3 = 0.5\n",
        "l3 = 1\n",
        "m1 = 1\n",
        "m2 = 1\n",
        "m3 = 0.5 \n",
        "i_xx = i_xy = i_xz = i_yz = 0 #for link 1 and link 2 \n",
        "i_zz = i_xy = i_xz = i_yz = 0 #for link 3\n",
        "\n",
        "q1 = q2 = q3 = 0.5\n",
        "\n",
        "p1 = (m1/3 + m2 + m3)*a1**2 + (m2 + 2*m3)*a1*a2*C2 + (m2/3 + m3)*a2**2\n",
        "p2 = (m2/2 + m3)*a1*a2*C2 + (m2/3 + m3)*a2**2\n",
        "p3 = (m2 + 2*m3)*q1*q2 - (m2/2 + m3)*q2**2\n",
        "\n",
        "tau1 = p1*q1 + p2*(q2**2) - a1*a2*s2*p3 #analytical expression for joint torques\n",
        "\n",
        "tau2 = -p2*q1 +(m2/3 + m3)*(a2**2)*q2 + (m2/2 + m3)*a2*a2*S2*(q1**2)\n",
        "\n",
        "tau3 = m3*q3 - g*m3\n",
        "\n",
        "# pi controller \n",
        "kp = 4.62835\n",
        "ki = 1.6895\n",
        "\n",
        "# pi control \n",
        "ki = 0.1\n",
        "kp = 0.2\n",
        "errorR = kp + ki/s\n",
        "\n",
        "\n"
      ],
      "execution_count": null,
      "outputs": []
    },
    {
      "cell_type": "code",
      "metadata": {
        "id": "te1Fnl7zxG5m"
      },
      "source": [
        ""
      ],
      "execution_count": null,
      "outputs": []
    },
    {
      "cell_type": "code",
      "metadata": {
        "id": "3W0xA4duxG3y"
      },
      "source": [
        ""
      ],
      "execution_count": null,
      "outputs": []
    }
  ]
}