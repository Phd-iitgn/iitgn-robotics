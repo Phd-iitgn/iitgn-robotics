{
  "nbformat": 4,
  "nbformat_minor": 0,
  "metadata": {
    "colab": {
      "name": "-Harsh Shrivastava- 21310011- Assignment 6,7- Q-3a, 3b",
      "provenance": [],
      "collapsed_sections": []
    },
    "kernelspec": {
      "name": "python3",
      "display_name": "Python 3"
    },
    "language_info": {
      "name": "python"
    }
  },
  "cells": [
    {
      "cell_type": "code",
      "metadata": {
        "id": "VNOf3e8erJ4D"
      },
      "source": [
        "import numpy as np\n",
        "import matplotlib.pyplot as plt\n",
        "import math\n",
        "from scipy.integrate import solve_ivp\n",
        "from mpl_toolkits import mplot3d\n",
        "from mpl_toolkits.mplot3d import Axes3D\n",
        "import matplotlib.animation as animation\n",
        "from scipy.optimize import fsolve\n",
        "import scipy.integrate\n",
        "from scipy.integrate import solve_ivp\n",
        "import sympy as sym"
      ],
      "execution_count": null,
      "outputs": []
    },
    {
      "cell_type": "code",
      "metadata": {
        "id": "_u3d99Bxrva-"
      },
      "source": [
        "# Let's assume\n",
        "g = 10\n",
        "m = 100\n",
        "m1 = 150\n",
        "m2 = 200\n",
        "m3 = 100\n",
        "r = 0.01\n",
        "d1 = 0.25\n",
        "l1 = 0.5\n",
        "l2 = 0.5\n",
        "l3 = 0.25\n",
        "I1 = m*r*r/2 + m1*l1*l1/12\n",
        "I2 = m2*l2*l2/12\n",
        "I3 = m3*r*r/2\n",
        "\n",
        "# Given coordinates of end points \n",
        "A = np.array([0.4,0.06,0.1])\n",
        "B = np.array([0.4,0.01,0.1])"
      ],
      "execution_count": null,
      "outputs": []
    },
    {
      "cell_type": "markdown",
      "metadata": {
        "id": "HEIzDnsJws-j"
      },
      "source": [
        "Assuming SCARA Manipulator"
      ]
    },
    {
      "cell_type": "code",
      "metadata": {
        "id": "qxQlTgINw4nH"
      },
      "source": [
        "def skew(x): #Skew symmetric matrix\n",
        "    return np.array([[0, -x[2], x[1]], \n",
        "                     [x[2], 0, -x[0]],\n",
        "                     [-x[1], x[0], 0]])"
      ],
      "execution_count": null,
      "outputs": []
    },
    {
      "cell_type": "code",
      "metadata": {
        "id": "Yt1LvCLQ0rrH"
      },
      "source": [
        "# Inverse kinematics of scara\n",
        "def inverse_kinematics_SCARA(O):\n",
        "\n",
        "    c2 = (O[0]**2 + O[1]**2 - l1**2 - l2**2)/(2*l1*l2)\n",
        "\n",
        "    theta2 = np.arctan2(-(1-c2**2)**0.5,c2)\n",
        "    theta1 = np.arctan2(O[1],O[0]) - np.arctan2(l2*np.sin(theta2),l1 + l2*np.cos(theta2))\n",
        "\n",
        "    d3 = d1 - O[2] \n",
        "\n",
        "    I = np.array([theta1,theta2,d3])\n",
        "    return(I)\n",
        "\n",
        "q_i = inverse_kinematics_SCARA(A)\n",
        "q_f = inverse_kinematics_SCARA(B)"
      ],
      "execution_count": null,
      "outputs": []
    },
    {
      "cell_type": "code",
      "metadata": {
        "id": "AbvhPo4sr3DU"
      },
      "source": [
        "# Finding Jacobian \n",
        "def Jacobian_SCARA(DH_parameters):\n",
        "    U = np.eye(4)\n",
        "    O = np.array([0,0,0])\n",
        "    W = np.array([0,0,1])\n",
        "    for i in range(4):\n",
        "        A = np.array([[np.cos(DH_parameters[i,0]), -np.sin(DH_parameters[i,0])*np.cos(DH_parameters[i,3]), np.sin(DH_parameters[i,0])*np.sin(DH_parameters[i,3]),DH_parameters[i,1]*np.cos(DH_parameters[i,0])],\\\n",
        "                [np.sin(DH_parameters[i,0]), np.cos(DH_parameters[i,0])*np.cos(DH_parameters[i,3]), -np.cos(DH_parameters[i,0])*np.sin(DH_parameters[i,3]),DH_parameters[i,1]*np.sin(DH_parameters[i,0])],\\\n",
        "                    [0,np.sin(DH_parameters[i,3]),np.cos(DH_parameters[i,3]),DH_parameters[i,2]],\\\n",
        "                        [0,0,0,1]])\n",
        "\n",
        "        U = np.dot(U,A)\n",
        "        O = np.c_[O,np.transpose(U[:3,3])]\n",
        "        W = np.c_[W,np.transpose(U[:3,2])]\n",
        "    J = np.r_[np.dot(skew(W[:,0]),np.transpose(O[:,3]) - np.transpose(O[:,0])), np.transpose(W[:,0])]\n",
        "    for i in range(1,4):\n",
        "        if(i==4):\n",
        "             J = np.c_[J,np.r_[np.transpose(W[:,i]),np.transpose([0,0,0])]]\n",
        "        else:\n",
        "            J = np.c_[J,np.r_[np.dot(skew(W[:,i]),np.transpose(O[:,3]) - np.transpose(O[:,i])), np.transpose(W[:,i])]]\n",
        "    return(J)\n",
        "\n",
        "def end_Effector_position_SCARA(I):\n",
        "    U = np.eye(4)\n",
        "    DH_parameters = np.array([[0,0,d1,0],[I[0],l1,0,0],[I[1],l1,0,3.14],[0,0,I[2],0]])\n",
        "    for i in range(4):\n",
        "        A = np.array([[np.cos(DH_parameters[i,0]), -np.sin(DH_parameters[i,0])*np.cos(DH_parameters[i,3]), np.sin(DH_parameters[i,0])*np.sin(DH_parameters[i,3]),DH_parameters[i,1]*np.cos(DH_parameters[i,0])],\\\n",
        "                [np.sin(DH_parameters[i,0]), np.cos(DH_parameters[i,0])*np.cos(DH_parameters[i,3]), -np.cos(DH_parameters[i,0])*np.sin(DH_parameters[i,3]),DH_parameters[i,1]*np.sin(DH_parameters[i,0])],\\\n",
        "                    [0,np.sin(DH_parameters[i,3]),np.cos(DH_parameters[i,3]),DH_parameters[i,2]],\\\n",
        "                        [0,0,0,1]])\n",
        "\n",
        "        U = np.dot(U,A)\n",
        "    return(U[0:3,3])"
      ],
      "execution_count": null,
      "outputs": []
    },
    {
      "cell_type": "code",
      "metadata": {
        "id": "dY5LgjdZr3xq"
      },
      "source": [
        "# Trajectory (approach same as done in Q-1)\n",
        "x = np.array([])\n",
        "vx = np.array([])\n",
        "ax = np.array([])\n",
        "\n",
        "y = np.array([])\n",
        "vy = np.array([])\n",
        "ay = np.array([])\n",
        "\n",
        "z = np.array([])\n",
        "vz = np.array([])\n",
        "az = np.array([])\n",
        "\n",
        "U = np.array([])\n",
        "for t in range(0,100,1):\n",
        "    x = np.append(x,0.4)\n",
        "    vx = np.append(vx,0)\n",
        "    ax = np.append(ax,0)\n",
        "    \n",
        "    y = np.append(y,0.06 -0.5*((t/100)**3)+0.75*((t/100)**4)-0.3*((t/100)**5))\n",
        "    vy = np.append(vy,-3*0.5*((t/100)**2)+4*0.75*((t/100)**3)-5*0.3*((t/100)**4))\n",
        "    ay =np.append(ay,-6*0.5*((t/100))+12*0.75*((t/100)**2)-20*0.3*((t/100)**3))\n",
        "    \n",
        "    z = np.append(z,0.1)\n",
        "    vz = np.append(vz,0)\n",
        "    az = np.append(az,0)\n",
        "\n",
        "    U = np.append(U,t/100)\n",
        "\n",
        "q1 = np.array([])\n",
        "q2 = np.array([])\n",
        "d3 = np.array([])\n",
        "for i in range(len(x)):\n",
        "    I = inverse_kinematics_SCARA([x[i],y[i],z[i]])\n",
        "    q1 = np.append(q1,I[0])\n",
        "    q2 = np.append(q2,I[1])\n",
        "    d3 = np.append(d3,I[2])\n",
        "\n",
        "    \n",
        "# desired joint velocity\n",
        "q1_dot = np.array([])\n",
        "q2_dot = np.array([])\n",
        "d3_dot = np.array([])\n",
        "\n",
        "for i in range(len(x)):\n",
        "    V = np.array([vx[i],vy[i],vz[i],0,0,0])\n",
        "    I = inverse_kinematics_SCARA([x[i],y[i],z[i]])\n",
        "    DH = np.array([[0,0,d1,0],[I[0],l1,0,0],[I[1],l1,0,3.14],[0,0,I[2],0]])\n",
        "    J = Jacobian_SCARA(DH)\n",
        "    q_dot = np.matmul(np.linalg.pinv(J[:3,:]),np.transpose(V[:3]))\n",
        "    q1_dot = np.append(q1_dot,q_dot[1])\n",
        "    q2_dot = np.append(q2_dot,q_dot[2])\n",
        "    d3_dot = np.append(d3_dot,q_dot[3])"
      ],
      "execution_count": null,
      "outputs": []
    },
    {
      "cell_type": "code",
      "metadata": {
        "id": "4z0qBQDEr-tR"
      },
      "source": [
        "# Q-3 (a)\n",
        "# PD Controller (used since it reduces steady state error)\n",
        "def SCARAmanipulator(t, y):\n",
        " \n",
        "    d3_dot_n = y[5]\n",
        "    omega2 = y[4]\n",
        "    omega1 = y[3]\n",
        "    d3_n = y[2]\n",
        "    q2_n = y[1]\n",
        "    q1_n = y[0]\n",
        "\n",
        "    d11 = (m1*l1**2)/4 +m2*l1**2 + (m2*l2**2)/4 + m3*l1**2 + m3*l2**2 + I1 + I2 + I3 + (m2*l1*l2/2 + 2*m3*l1*l2)*np.cos(q2_n)\n",
        "    d12 = (m2*l2**2)/4 + m3*l2**2 + I2 + I3 + (m2*l1*l2 + 2*m3*l1*l2)*np.cos(q2_n)\n",
        "    d22 = (m2*l2**2)/4 + m3*l2**2 + I2 + I3\n",
        "    d23 = I3\n",
        "    d33 = m3/4\n",
        "\n",
        "    B =  -(m2*l1*l2 + 2*m3*l1*l2)*np.sin(q2_n)*omega1*omega2 - (m2*l1*l2 + 2*m3*l1*l2)*np.sin(q2_n)*omega2*omega2\n",
        "    C = (m2*l1*l2 + 2*m3*l1*l2)*np.sin(q2_n)*omega1*omega1/2\n",
        "    \n",
        "    # differential constant for q1\n",
        "    K2 = 10 \n",
        "    # linear constant for q1\n",
        "    K = -2000\n",
        "\n",
        "    X = 0.4\n",
        "    Y = 0.06 -0.5*((t)**3)+0.75*((t)**4)-0.3*((t)**5)\n",
        "    W = 0.1\n",
        "    [q1_d,q2_d,d3_d] = inverse_kinematics_SCARA([X,Y,W])\n",
        "    dydt = [omega1, omega2, d3_dot_n, (-B - d12*((d23/(d33-I3) + B*d12/(d11-I1) - C)/(d22 - d12*d12/(d11-I1) - d23*d23/(d33-I3) - I2)))/(d11 - I1) - K*(q1_d-q1_n) - K2*omega1, (d23/(d33-I3) + B*d12/(d11-I1) - C)/(d22 - d12*d12/(d11-I1) - d23*d23/(d33-I3) - I2) - K*(q2_d - q2_n) - K2*omega2, (-1 - d23*((d23/(d33-I3) + B*d12/(d11-I1) - C)/(d22 - d12*d12/(d11-I1) - d23*d23/(d33-I3) - I2)))/(d33 - I3) - K*(d3_d - d3_n)- K2*d3_dot_n]\n",
        "    \n",
        "    return dydt\n",
        "\n",
        "Q1 = q_i[0]\n",
        "Q2 = q_i[1]\n",
        "D3 = q_i[2]\n",
        "omega1 = q1_dot[0]\n",
        "omega2 = q2_dot[0]\n",
        "    \n",
        "initstate = [Q1,Q2, D3, omega1, omega2, 0] # initial states\n",
        "timestep = 0.1\n",
        "\n",
        "time = np.linspace(0, 1, 100) # define the time for which we want to solve\n",
        "\n",
        "\n",
        "# solve the ODE (# Referred from Dev's repository)\n",
        "solution = solve_ivp(SCARAmanipulator, [0, time[-1]], initstate, t_eval= time) \n",
        "\n",
        "\n",
        "qs1 = solution.y[0]\n",
        "qs2 = solution.y[1]\n",
        "ds3 = solution.y[2]\n",
        "omegas1 = solution.y[3]\n",
        "omegas2 = solution.y[4]\n",
        "ds3_dot = solution.y[5]\n",
        "\n",
        "\n",
        "x_actual_a = np.array([])\n",
        "y_actual_a = np.array([])\n",
        "z_actual_a = np.array([])\n",
        "for i in range(len(qs1)):\n",
        "    E = end_Effector_position_SCARA([qs1[i],qs2[i],ds3[i]])\n",
        "    x_actual_a = np.append(x_actual_a,E[0])\n",
        "    y_actual_a = np.append(y_actual_a,E[1])\n",
        "    z_actual_a = np.append(z_actual_a,E[2])"
      ],
      "execution_count": null,
      "outputs": []
    },
    {
      "cell_type": "code",
      "metadata": {
        "colab": {
          "base_uri": "https://localhost:8080/",
          "height": 558
        },
        "id": "kHWxnmPkr_Re",
        "outputId": "0d1f9e56-0367-4ba3-e301-28cc105c6b73"
      },
      "source": [
        "plt.figure(1)\n",
        "plt.plot(U,x,'b',U,x_actual_a,'g')\n",
        "plt.xlabel('Time')\n",
        "plt.ylabel('Position')\n",
        "plt.legend(['X_desired','X_actual_a'])\n",
        "\n",
        "plt.figure(2)\n",
        "plt.plot(U,y,'b',U,y_actual_a,'g')\n",
        "plt.xlabel('Time')\n",
        "plt.ylabel('Position')\n",
        "plt.legend(['Y_desired','Y_actual_a'])"
      ],
      "execution_count": null,
      "outputs": [
        {
          "output_type": "execute_result",
          "data": {
            "text/plain": [
              "<matplotlib.legend.Legend at 0x7fd2e88e8390>"
            ]
          },
          "metadata": {},
          "execution_count": 124
        },
        {
          "output_type": "display_data",
          "data": {
            "image/png": "[encoded data removed]",
            "text/plain": [
              "<Figure size 432x288 with 1 Axes>"
            ]
          },
          "metadata": {
            "needs_background": "light"
          }
        },
        {
          "output_type": "display_data",
          "data": {
            "image/png": "[encoded data removed]",
            "text/plain": [
              "<Figure size 432x288 with 1 Axes>"
            ]
          },
          "metadata": {
            "needs_background": "light"
          }
        }
      ]
    },
    {
      "cell_type": "code",
      "metadata": {
        "id": "4SFCFGVAsBPf"
      },
      "source": [
        "#Q-3 (b)\n",
        "# PD with Feed Forward Control\n",
        "# Referring equation 7.6.6 in textbook\n",
        "\n",
        "def SCARAmanipulator(t, y):\n",
        "\n",
        "    q1 = y[0]\n",
        "    q2 = y[1]\n",
        "    d3 = y[2]\n",
        "    omega1 = y[3]\n",
        "    D3_dot = y[5]\n",
        "    omega2 = y[4]\n",
        "\n",
        "    d11 = (m1*l1**2)/4 +m2*l1**2 + (m2*l2**2)/4 + m3*l1**2 + m3*l2**2 + I1 + I2 + I3 + (m2*l1*l2/2 + 2*m3*l1*l2)*np.cos(q2)\n",
        "    d12 = (m2*l2**2)/4 + m3*l2**2 + I2 + I3 + (m2*l1*l2 + 2*m3*l1*l2)*np.cos(q2)\n",
        "    d22 = (m2*l2**2)/4 + m3*l2**2 + I2 + I3\n",
        "    d23 = I3\n",
        "    d33 = m3/4\n",
        "\n",
        "    B =  -(m2*l1*l2 + 2*m3*l1*l2)*np.sin(q2)*omega1*omega2 - (m2*l1*l2 + 2*m3*l1*l2)*np.sin(q2)*omega2*omega2\n",
        "    C = (m2*l1*l2 + 2*m3*l1*l2)*np.sin(q2)*omega1*omega1/2\n",
        "    \n",
        "   # differential constant\n",
        "    K2 = 10 \n",
        "   # linear constant\n",
        "    K = -2000 \n",
        "\n",
        "    X = 0.4\n",
        "    Y = 0.06 -0.5*((t)**3)+0.75*((t)**4)-0.3*((t)**5)\n",
        "    W = 0.1\n",
        "    [q1_d,q2_d,d3_d] = inverse_kinematics_SCARA([X,Y,W])\n",
        "    V = np.array([0,-3*0.5*((t)**2)+4*0.75*((t)**3)-5*0.3*((t)**4),0,0,0,0])\n",
        "    A_e =np.array([0,-6*0.5*((t))+12*0.75*((t)**2)-20*0.3*((t)**3),0,0,0,0])\n",
        "    I = inverse_kinematics_SCARA([X,Y,W])\n",
        "    DH = np.array([[0,0,d1,0],[I[0],l1,0,0],[I[1],l2,0,3.14],[0,0,I[2],0]])\n",
        "    J = Jacobian_SCARA(DH)\n",
        "    q_dot_d = np.matmul(np.linalg.pinv(J[:3,:]),np.transpose(V[:3]))\n",
        "    J_dot = [[-l1*np.cos(q1_d)*q_dot_d[1]-l2*np.cos(q1_d+q2_d)*(q_dot_d[1]+q_dot_d[2]),-l2*np.cos(q1_d+q2_d)*(q_dot_d[1]+q_dot_d[2]),0],[-l1*np.sin(q1_d)*(q_dot_d[1])-l2*np.sin(q1_d+q2_d)*(q_dot_d[1]+q_dot_d[2]),-l2*np.sin(q1_d+q2_d)*(q_dot_d[1]+q_dot_d[2]),0],[0,0,0],[0,0,0],[0,0,0],[0,0,0]]\n",
        "    H = np.matmul(np.linalg.pinv(J[:3,:]),np.transpose(A_e[:3])) \n",
        "    G = np.matmul(J_dot[:3],np.transpose(np.array([q_dot_d[1],q_dot_d[2],q_dot_d[3]])))\n",
        "    q_ddot_d = H[1:] - G\n",
        "\n",
        "    dydt = [omega1, omega2, D3_dot, (-B - d12*((d23/(d33-I3) + B*d12/(d11-I1) - C)/(d22 - d12*d12/(d11-I1) - d23*d23/(d33-I3) - I2)))/(d11 - I1) - K*(q1_d-q1) + K2*(q_dot_d[1]-omega1) + q_ddot_d[0] ,\n",
        "            (d23/(d33-I3) + B*d12/(d11-I1) - C)/(d22 - d12*d12/(d11-I1) - d23*d23/(d33-I3) - I2) - K*(q2_d - q2) + K2*(q_dot_d[2]-omega2) + q_ddot_d[1], \n",
        "            (-1 - d23*((d23/(d33-I3) + B*d12/(d11-I1) - C)/(d22 - d12*d12/(d11-I1) - d23*d23/(d33-I3) - I2)))/(d33 - I3) - K*(q_f[2] - d3)+ K2*(q_dot_d[3]-D3_dot)+d33*q_ddot_d[2]]\n",
        "    \n",
        "    return dydt # ODE solver equation referred from Dev's repository\n",
        "\n",
        "Q1 = q_i[0]\n",
        "Q2 = q_i[1]\n",
        "D3 = q_i[2]\n",
        "    \n",
        "initstate = [Q1,Q2, D3, omega1, omega2, 0] # initial states\n",
        "timestep = 0.1\n",
        "\n",
        "time = np.linspace(0, 1, 100) # define the time for which we want to solve\n",
        "\n",
        "\n",
        "# solve the ODE\n",
        "solution = solve_ivp(SCARAmanipulator, [0, time[-1]], initstate, t_eval= time) \n",
        "\n",
        "\n",
        "qs1 = solution.y[0]\n",
        "qs2 = solution.y[1]\n",
        "ds3 = solution.y[2]\n",
        "omegas1 = solution.y[3]\n",
        "omegas2 = solution.y[4]\n",
        "ds3_dot = solution.y[5]\n",
        "\n",
        "\n",
        "x_actual_b = np.array([])\n",
        "y_actual_b = np.array([])\n",
        "z_actual_b = np.array([])\n",
        "for i in range(len(qs1)):\n",
        "    E = end_Effector_position_SCARA([qs1[i],qs2[i],ds3[i]])\n",
        "    x_actual_b = np.append(x_actual_b,E[0])\n",
        "    y_actual_b = np.append(y_actual_b,E[1])\n",
        "    z_actual_b = np.append(z_actual_b,E[2])"
      ],
      "execution_count": null,
      "outputs": []
    },
    {
      "cell_type": "code",
      "metadata": {
        "colab": {
          "base_uri": "https://localhost:8080/",
          "height": 558
        },
        "id": "b7l7DrDasD0G",
        "outputId": "603b0108-ecd0-4a41-85db-55718e41c544"
      },
      "source": [
        "plt.figure(1)\n",
        "plt.plot(U,x,'b',U,x_actual_a,'g',U,x_actual_b,'r')\n",
        "plt.xlabel('Time')\n",
        "plt.ylabel('Position')\n",
        "plt.legend(['X_desired','X_actual_a','X_actual_b'])\n",
        "\n",
        "plt.figure(2)\n",
        "plt.plot(U,y,'b',U,y_actual_a,'g',U,y_actual_b,'r')\n",
        "plt.xlabel('Time')\n",
        "plt.ylabel('Position')\n",
        "plt.legend(['Y_desired','Y_actual_a','Y_actual_b'])"
      ],
      "execution_count": null,
      "outputs": [
        {
          "output_type": "execute_result",
          "data": {
            "text/plain": [
              "<matplotlib.legend.Legend at 0x7fd2e87e8150>"
            ]
          },
          "metadata": {},
          "execution_count": 126
        },
        {
          "output_type": "display_data",
          "data": {
            "image/png": "[encoded data removed]",
            "text/plain": [
              "<Figure size 432x288 with 1 Axes>"
            ]
          },
          "metadata": {
            "needs_background": "light"
          }
        },
        {
          "output_type": "display_data",
          "data": {
            "image/png": "[encoded data removed]",
            "text/plain": [
              "<Figure size 432x288 with 1 Axes>"
            ]
          },
          "metadata": {
            "needs_background": "light"
          }
        }
      ]
    }
  ]
}