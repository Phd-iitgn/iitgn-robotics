{
  "nbformat": 4,
  "nbformat_minor": 0,
  "metadata": {
    "colab": {
      "name": "-Harsh Shrivastava-21310011-Assignment 6,7-Q-2",
      "provenance": [],
      "collapsed_sections": []
    },
    "kernelspec": {
      "name": "python3",
      "display_name": "Python 3"
    },
    "language_info": {
      "name": "python"
    }
  },
  "cells": [
    {
      "cell_type": "code",
      "metadata": {
        "id": "ofP6sP3HOrwP"
      },
      "source": [
        "#Importing standard Libraries\n",
        "import numpy as np\n",
        "import matplotlib.pyplot as plt\n",
        "import math\n",
        "from scipy.integrate import solve_ivp\n",
        "from mpl_toolkits import mplot3d\n",
        "from mpl_toolkits.mplot3d import Axes3D\n",
        "import matplotlib.animation as animation"
      ],
      "execution_count": null,
      "outputs": []
    },
    {
      "cell_type": "markdown",
      "metadata": {
        "id": "ySAii6wfPxP8"
      },
      "source": [
        "Assuming SCARA Manipulator"
      ]
    },
    {
      "cell_type": "code",
      "metadata": {
        "id": "nQou2yR6O9X2"
      },
      "source": [
        "# Finding x,y,z position, velocity and acceleration\n",
        "x = np.array([])\n",
        "vx = np.array([])\n",
        "ax = np.array([])\n",
        "\n",
        "y = np.array([])\n",
        "vy = np.array([])\n",
        "ay = np.array([])\n",
        "\n",
        "z = np.array([])\n",
        "vz = np.array([])\n",
        "az = np.array([])\n",
        "\n",
        "A = np.array([])\n",
        "for t in range(0,110,1):\n",
        "    x = np.append(x,0.4)\n",
        "    vx = np.append(vx,0)\n",
        "    ax = np.append(ax,0)\n",
        "    \n",
        "    y = np.append(y,0.06 -0.5*((t/100)**3)+0.75*((t/100)**4)-0.3*((t/100)**5))\n",
        "    vy = np.append(vy,-3*0.5*((t/100)**2)+4*0.75*((t/100)**3)-5*0.3*((t/100)**4))\n",
        "    ay =np.append(ay,-6*0.5*((t/100))+12*0.75*((t/100)**2)-20*0.3*((t/100)**3))\n",
        "    \n",
        "    z = np.append(z,0.1)\n",
        "    vz = np.append(vz,0)\n",
        "    az = np.append(az,0)\n",
        "\n",
        "    A = np.append(A,t/100)"
      ],
      "execution_count": null,
      "outputs": []
    },
    {
      "cell_type": "markdown",
      "metadata": {
        "id": "7GsAPWQxP3JH"
      },
      "source": [
        ""
      ]
    },
    {
      "cell_type": "code",
      "metadata": {
        "id": "uYtWzSP9PmXj"
      },
      "source": [
        "# SCARA manipulator\n",
        "#Let us assume\n",
        "l1 = 0.5\n",
        "l2 = 0.5\n",
        "l3 = 0.25\n",
        "d1 = 0.25\n",
        "def inverse_kinematics_SCARA(O):\n",
        "\n",
        "    c2 = (O[0]**2 + O[1]**2 - l1**2 - l2**2)/(2*l1*l2)\n",
        "    theta2 = np.arctan2(-(1-c2**2)**0.5,c2)\n",
        "    theta1 = np.arctan2(O[1],O[0]) - np.arctan2(l2*np.sin(theta2),l1 + l2*np.cos(theta2))\n",
        "\n",
        "    d3 = d1 - O[2] \n",
        "\n",
        "    I = np.array([theta1,theta2,d3])\n",
        "    return(I)\n",
        "\n",
        "q1 = np.array([])\n",
        "q2 = np.array([])\n",
        "d3 = np.array([])\n",
        "for i in range(len(x)):\n",
        "    I = inverse_kinematics_SCARA([x[i],y[i],z[i]])\n",
        "    q1 = np.append(q1,I[0])\n",
        "    q2 = np.append(q2,I[1])\n",
        "    d3 = np.append(d3,I[2])"
      ],
      "execution_count": null,
      "outputs": []
    },
    {
      "cell_type": "code",
      "metadata": {
        "colab": {
          "base_uri": "https://localhost:8080/",
          "height": 296
        },
        "id": "gGc2INfQPnYF",
        "outputId": "63935434-04e0-4016-dcf6-a4cf8c868f1a"
      },
      "source": [
        "# Joint trajectories plot\n",
        "plt.plot(A,q1,'b',A,q2,'g',A,d3,'r')\n",
        "plt.xlabel('Time')\n",
        "plt.ylabel('Joint Variables')\n",
        "plt.legend(['q1','q2','d3'])"
      ],
      "execution_count": null,
      "outputs": [
        {
          "output_type": "execute_result",
          "data": {
            "text/plain": [
              "<matplotlib.legend.Legend at 0x7f1c6eaf7f10>"
            ]
          },
          "metadata": {},
          "execution_count": 14
        },
        {
          "output_type": "display_data",
          "data": {
            "image/png": "[encoded data removed]",
            "text/plain": [
              "<Figure size 432x288 with 1 Axes>"
            ]
          },
          "metadata": {
            "needs_background": "light"
          }
        }
      ]
    }
  ]
}