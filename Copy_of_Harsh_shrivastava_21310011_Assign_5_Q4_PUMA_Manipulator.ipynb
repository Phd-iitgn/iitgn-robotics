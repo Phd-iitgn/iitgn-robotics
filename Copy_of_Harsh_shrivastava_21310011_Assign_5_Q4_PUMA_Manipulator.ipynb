{
  "nbformat": 4,
  "nbformat_minor": 0,
  "metadata": {
    "colab": {
      "name": "Copy of Harsh shrivastava- 21310011- Assign 5- Q4- PUMA Manipulator",
      "provenance": [],
      "collapsed_sections": []
    },
    "kernelspec": {
      "name": "python3",
      "display_name": "Python 3"
    },
    "language_info": {
      "name": "python"
    }
  },
  "cells": [
    {
      "cell_type": "code",
      "metadata": {
        "id": "u2IGO6MG-eyJ"
      },
      "source": [
        "import math\n",
        "import numpy as np"
      ],
      "execution_count": null,
      "outputs": []
    },
    {
      "cell_type": "code",
      "metadata": {
        "id": "EQAV33Njn5Vl"
      },
      "source": [
        "# inverse kinematics for puma\n",
        "def puma_inverse_kinematics(l1,l2,l3,xc,yc,zc):\n",
        "    theta1 = math.atan2(yc,xc)\n",
        "    D = (xc*xc+yc*yc+(zc-l1)*(zc-l1)-l2*l2-l3*l3)/(2*l2*l3)\n",
        "    if D>=1 or D<=-1:\n",
        "        print(\"singular configuration\")\n",
        "    if D>1 or D<-1:\n",
        "        print(\"outside workspace\")   \n",
        "    theta3 = (math.atan2((-math.sqrt(1-D*D)),D))\n",
        "    theta2 = math.atan2(zc-l1,(math.sqrt(xc*xc+yc*yc)))-math.atan2((l3*math.sin(theta3)),(l2+l3*math.cos(theta3)))\n",
        "    print(\"Theta1 = \",np.rad2deg(theta1),\"\\nTheta2 = \", np.rad2deg(theta2), \"\\nTheta3 = \", np.rad2deg(theta3))\n",
        "\n",
        "    return theta1,theta2,theta3"
      ],
      "execution_count": null,
      "outputs": []
    },
    {
      "cell_type": "code",
      "metadata": {
        "colab": {
          "base_uri": "https://localhost:8080/"
        },
        "id": "xB6nPA4R-tbZ",
        "outputId": "c2728522-ade0-437a-e826-422a0ac54100"
      },
      "source": [
        "# lengths of the links\n",
        "l1 = 10\n",
        "l2 = 5\n",
        "l3 = 5\n",
        "\n",
        "# enter the starting and ending position coordinates\n",
        "start_x = float(input(\"enter starting x: \"))\n",
        "start_y = float(input(\"enter starting y: \"))\n",
        "start_z = float(input(\"enter starting z: \"))\n",
        "\n",
        "end_x = float(input(\"enter ending x: \"))\n",
        "end_y = float(input(\"enter ending y: \"))\n",
        "end_z = float(input(\"enter ending z: \"))\n",
        "\n",
        "# inverse kinematics angle solutions\n",
        "theta1, theta2, theta3 = puma_inverse_kinematics(l1, l2, l3, start_x,start_y, start_z)\n",
        "print(\"Inverse kinematics angles obtained:\")\n",
        "print(f\"theta1: {theta1}\")\n",
        "print(f\"theta2: {theta2}\")\n",
        "print(f\"theta3: {theta3}\")\n"
      ],
      "execution_count": null,
      "outputs": [
        {
          "output_type": "stream",
          "name": "stdout",
          "text": [
            "enter starting x: 2\n",
            "enter starting y: 3\n",
            "enter starting z: 4\n",
            "enter ending x: 1\n",
            "enter ending y: 2\n",
            "enter ending z: 5\n",
            "Theta1 =  56.309932474020215 \n",
            "Theta2 =  -13.42428486693172 \n",
            "Theta3 =  -91.1459919983886\n",
            "Inverse kinematics angles obtained:\n",
            "theta1: 0.982793723247329\n",
            "theta2: -0.23429797065360736\n",
            "theta3: -1.5907976603682872\n"
          ]
        }
      ]
    },
    {
      "cell_type": "code",
      "metadata": {
        "id": "DH8Bad5PBDfk"
      },
      "source": [
        "# dynamic equations for puma robot \n",
        "m = 50 #mass\n",
        "# product of mass and center of mass\n",
        "# max, may, maz\n",
        "# inertial tensors\n",
        "# ixx, iyy, izz, ixy, iyz, izx\n",
        "\n",
        "tau = (ixx + iyy + izz)*theta1  + m*g*(ax*cos(theta1) + ay*sin(theta1))\n",
        "\n",
        "# error formula for pi control\n",
        "ki = 0.1\n",
        "kp = 0.2\n",
        "eR = kp + ki/s2\n"
      ],
      "execution_count": null,
      "outputs": []
    }
  ]
}