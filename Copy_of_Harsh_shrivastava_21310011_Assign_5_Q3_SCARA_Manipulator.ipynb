{
  "nbformat": 4,
  "nbformat_minor": 0,
  "metadata": {
    "colab": {
      "name": "Copy of Harsh shrivastava- 21310011- Assign 5- Q3- SCARA Manipulator",
      "provenance": [],
      "collapsed_sections": []
    },
    "kernelspec": {
      "name": "python3",
      "display_name": "Python 3"
    },
    "language_info": {
      "name": "python"
    }
  },
  "cells": [
    {
      "cell_type": "code",
      "metadata": {
        "id": "fOUMZ0sF7Wbc"
      },
      "source": [
        "import numpy as np"
      ],
      "execution_count": null,
      "outputs": []
    },
    {
      "cell_type": "code",
      "metadata": {
        "id": "tT__1wtGX2tB"
      },
      "source": [
        "# scara inverse kinematics routine \n",
        "def scara_invkin(x,y,z,d1,d2):\n",
        "    # using formulae from the textbook\n",
        "    r = abs((x**2+y**2-d1**2-d2**2)/(2*d1*d2))\n",
        "    theta2 = np.arctan(np.sqrt(abs(1-r**2))/r)\n",
        "    theta1 = np.arctan(y/x) - np.arctan((d2*np.sin(theta2))/(d1+d2*np.cos(theta2)))\n",
        "    d3 = -z\n",
        "    # converting from radians to degrees\n",
        "    theta1_deg = theta1*180/np.pi\n",
        "    theta2_deg = theta2*180/np.pi\n",
        "    print(\"\\nInverse kinematics solution:\")\n",
        "    print(f\"theta1 = {theta1_deg} deg\")\n",
        "    print(f\"theta2 = {theta2_deg} deg\")\n",
        "    return theta1, theta2\n",
        "\n"
      ],
      "execution_count": null,
      "outputs": []
    },
    {
      "cell_type": "code",
      "metadata": {
        "colab": {
          "base_uri": "https://localhost:8080/"
        },
        "id": "wf-07Chp7Ul7",
        "outputId": "2bc39a0a-b497-4697-c7b7-f6a5da7a10e4"
      },
      "source": [
        "# user input for the start and end positions \n",
        "\n",
        "start_x = float(input(\"enter x coordinate of starting position \"))\n",
        "start_y = float(input(\"enter y coordinate of starting position \"))\n",
        "start_z = float(input(\"enter z coordinate of starting position \"))\n",
        "\n",
        "end_x = float(input(\"enter x coordinate of ending position \"))\n",
        "end_y = float(input(\"enter y coordinate of ending position \"))\n",
        "end_z = float(input(\"enter z coordinate of ending position \"))\n",
        "\n",
        "\n",
        "d1 = float(input())\n",
        "d2 = float(input())\n",
        "\n",
        "# angle calculation through inverse kinematics \n",
        "theta1, theta2 = scara_invkin(start_x, start_y, start_z, d1, d2)\n",
        "\n",
        "print(f\"Inverse kinematics solution: \")\n",
        "print(f\"theta1: {theta1}\\ntheta2: {theta2}\")\n",
        "\n",
        "\n",
        "\n"
      ],
      "execution_count": null,
      "outputs": [
        {
          "output_type": "stream",
          "name": "stdout",
          "text": [
            "enter x coordinate of starting position 2\n",
            "enter y coordinate of starting position 3\n",
            "enter z coordinate of starting position 5\n",
            "1\n",
            "1\n",
            "\n",
            "Inverse kinematics solution:\n",
            "theta1 = 34.05068237825096 deg\n",
            "theta2 = 44.51850019153852 deg\n",
            "Inverse kinematics solution: \n",
            "theta1: 0.5942965200512924\n",
            "theta2: 0.7769944063920734\n"
          ]
        }
      ]
    },
    {
      "cell_type": "code",
      "metadata": {
        "colab": {
          "base_uri": "https://localhost:8080/",
          "height": 229
        },
        "id": "_F0nNEFP9OIH",
        "outputId": "7515b67a-49ea-415d-a853-71b231fc567c"
      },
      "source": [
        "# dynamics equation \n",
        "a1 = a2 = d1 = 1\n",
        "d2 = 0\n",
        "d3 = 0.5\n",
        "l3 = 1\n",
        "m1 = 1\n",
        "m2 = 1\n",
        "m3 = 0.5 \n",
        "i_xx = i_xy = i_xz = i_yz = 0 #for link 1 and link 2 \n",
        "i_zz = i_xy = i_xz = i_yz = 0 #for link 3\n",
        "\n",
        "q1 = q2 = q3 = 0.5\n",
        "\n",
        "p1 = (m1/3 + m2 + m3)*a1**2 + (m2 + 2*m3)*a1*a2*C2 + (m2/3 + m3)*a2**2\n",
        "p2 = (m2/2 + m3)*a1*a2*C2 + (m2/3 + m3)*a2**2\n",
        "p3 = (m2 + 2*m3)*q1*q2 - (m2/2 + m3)*q2**2\n",
        "\n",
        "tau1 = p1*q1 + p2*(q2**2) - a1*a2*s2*p3 #analytical expression for joint torques\n",
        "\n",
        "tau2 = -p2*q1 +(m2/3 + m3)*(a2**2)*q2 + (m2/2 + m3)*a2*a2*S2*(q1**2)\n",
        "\n",
        "tau3 = m3*q3 - g*m3"
      ],
      "execution_count": null,
      "outputs": [
        {
          "output_type": "error",
          "ename": "NameError",
          "evalue": "ignored",
          "traceback": [
            "\u001b[0;31m---------------------------------------------------------------------------\u001b[0m",
            "\u001b[0;31mNameError\u001b[0m                                 Traceback (most recent call last)",
            "\u001b[0;32m<ipython-input-8-aabe69608b5b>\u001b[0m in \u001b[0;36m<module>\u001b[0;34m()\u001b[0m\n\u001b[1;32m     12\u001b[0m \u001b[0mq1\u001b[0m \u001b[0;34m=\u001b[0m \u001b[0mq2\u001b[0m \u001b[0;34m=\u001b[0m \u001b[0mq3\u001b[0m \u001b[0;34m=\u001b[0m \u001b[0;36m0.5\u001b[0m\u001b[0;34m\u001b[0m\u001b[0;34m\u001b[0m\u001b[0m\n\u001b[1;32m     13\u001b[0m \u001b[0;34m\u001b[0m\u001b[0m\n\u001b[0;32m---> 14\u001b[0;31m \u001b[0mp1\u001b[0m \u001b[0;34m=\u001b[0m \u001b[0;34m(\u001b[0m\u001b[0mm1\u001b[0m\u001b[0;34m/\u001b[0m\u001b[0;36m3\u001b[0m \u001b[0;34m+\u001b[0m \u001b[0mm2\u001b[0m \u001b[0;34m+\u001b[0m \u001b[0mm3\u001b[0m\u001b[0;34m)\u001b[0m\u001b[0;34m*\u001b[0m\u001b[0ma1\u001b[0m\u001b[0;34m**\u001b[0m\u001b[0;36m2\u001b[0m \u001b[0;34m+\u001b[0m \u001b[0;34m(\u001b[0m\u001b[0mm2\u001b[0m \u001b[0;34m+\u001b[0m \u001b[0;36m2\u001b[0m\u001b[0;34m*\u001b[0m\u001b[0mm3\u001b[0m\u001b[0;34m)\u001b[0m\u001b[0;34m*\u001b[0m\u001b[0ma1\u001b[0m\u001b[0;34m*\u001b[0m\u001b[0ma2\u001b[0m\u001b[0;34m*\u001b[0m\u001b[0mC2\u001b[0m \u001b[0;34m+\u001b[0m \u001b[0;34m(\u001b[0m\u001b[0mm2\u001b[0m\u001b[0;34m/\u001b[0m\u001b[0;36m3\u001b[0m \u001b[0;34m+\u001b[0m \u001b[0mm3\u001b[0m\u001b[0;34m)\u001b[0m\u001b[0;34m*\u001b[0m\u001b[0ma2\u001b[0m\u001b[0;34m**\u001b[0m\u001b[0;36m2\u001b[0m\u001b[0;34m\u001b[0m\u001b[0;34m\u001b[0m\u001b[0m\n\u001b[0m\u001b[1;32m     15\u001b[0m \u001b[0mp2\u001b[0m \u001b[0;34m=\u001b[0m \u001b[0;34m(\u001b[0m\u001b[0mm2\u001b[0m\u001b[0;34m/\u001b[0m\u001b[0;36m2\u001b[0m \u001b[0;34m+\u001b[0m \u001b[0mm3\u001b[0m\u001b[0;34m)\u001b[0m\u001b[0;34m*\u001b[0m\u001b[0ma1\u001b[0m\u001b[0;34m*\u001b[0m\u001b[0ma2\u001b[0m\u001b[0;34m*\u001b[0m\u001b[0mC2\u001b[0m \u001b[0;34m+\u001b[0m \u001b[0;34m(\u001b[0m\u001b[0mm2\u001b[0m\u001b[0;34m/\u001b[0m\u001b[0;36m3\u001b[0m \u001b[0;34m+\u001b[0m \u001b[0mm3\u001b[0m\u001b[0;34m)\u001b[0m\u001b[0;34m*\u001b[0m\u001b[0ma2\u001b[0m\u001b[0;34m**\u001b[0m\u001b[0;36m2\u001b[0m\u001b[0;34m\u001b[0m\u001b[0;34m\u001b[0m\u001b[0m\n\u001b[1;32m     16\u001b[0m \u001b[0mp3\u001b[0m \u001b[0;34m=\u001b[0m \u001b[0;34m(\u001b[0m\u001b[0mm2\u001b[0m \u001b[0;34m+\u001b[0m \u001b[0;36m2\u001b[0m\u001b[0;34m*\u001b[0m\u001b[0mm3\u001b[0m\u001b[0;34m)\u001b[0m\u001b[0;34m*\u001b[0m\u001b[0mq1\u001b[0m\u001b[0;34m*\u001b[0m\u001b[0mq2\u001b[0m \u001b[0;34m-\u001b[0m \u001b[0;34m(\u001b[0m\u001b[0mm2\u001b[0m\u001b[0;34m/\u001b[0m\u001b[0;36m2\u001b[0m \u001b[0;34m+\u001b[0m \u001b[0mm3\u001b[0m\u001b[0;34m)\u001b[0m\u001b[0;34m*\u001b[0m\u001b[0mq2\u001b[0m\u001b[0;34m**\u001b[0m\u001b[0;36m2\u001b[0m\u001b[0;34m\u001b[0m\u001b[0;34m\u001b[0m\u001b[0m\n",
            "\u001b[0;31mNameError\u001b[0m: name 'C2' is not defined"
          ]
        }
      ]
    },
    {
      "cell_type": "code",
      "metadata": {
        "id": "j9iPDNv2909S"
      },
      "source": [
        "# pi control\n",
        "ki = 0.1\n",
        "kp = 0.2\n",
        "e_R = kp + ki/s2\n",
        "\n"
      ],
      "execution_count": null,
      "outputs": []
    }
  ]
}